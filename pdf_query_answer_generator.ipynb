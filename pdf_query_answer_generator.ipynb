{
 "cells": [
  {
   "cell_type": "code",
   "execution_count": 5,
   "metadata": {},
   "outputs": [],
   "source": [
    "from PyPDF2 import PdfReader\n",
    "from pdfplumber import pdf\n",
    "from langchain.text_splitter import RecursiveCharacterTextSplitter\n",
    "from sentence_transformers import SentenceTransformer, util\n",
    "import time\n",
    "from gpt4all import GPT4All\n",
    "\n",
    "from numba import jit, cuda\n",
    "import numpy as np\n"
   ]
  },
  {
   "cell_type": "code",
   "execution_count": 6,
   "metadata": {},
   "outputs": [
    {
     "name": "stdout",
     "output_type": "stream",
     "text": [
      "Found model file at  C:\\\\\\\\Users\\\\\\\\yasha\\\\\\\\.cache\\\\\\\\gpt4all\\\\orca-mini-3b.ggmlv3.q4_0.bin\n"
     ]
    }
   ],
   "source": [
    "llm = GPT4All(\"orca-mini-3b.ggmlv3.q4_0.bin\")\n",
    "# llm = GPT4All(\"D:\\project\\pdf_reader\\pdf_reader\\pdf_reader_v2\\models\\ggml-old-vic13b-q4_0.bin\")\n",
    "# llm = GPT4All(\"D:\\project\\pdf_reader\\pdf_reader\\pdf_reader_v2\\models\\ggml-gpt4all-j-v1.3-groovy.bin\")"
   ]
  },
  {
   "cell_type": "markdown",
   "metadata": {},
   "source": [
    "## Querying the pdf"
   ]
  },
  {
   "cell_type": "code",
   "execution_count": 40,
   "metadata": {},
   "outputs": [],
   "source": [
    "question = \"car is not starting\""
   ]
  },
  {
   "cell_type": "markdown",
   "metadata": {},
   "source": [
    "# Load and split the PDF"
   ]
  },
  {
   "cell_type": "code",
   "execution_count": 15,
   "metadata": {},
   "outputs": [],
   "source": [
    "pdf_path = \"D:/project/pdf_reader/pdf_reader/pdf_reader_v2/document/AltoK10_Owner's_Manual.pdf\"\n",
    "pdf_loader = PdfReader(open(pdf_path, \"rb\"))\n",
    "pdf_text = \"\""
   ]
  },
  {
   "cell_type": "code",
   "execution_count": 16,
   "metadata": {},
   "outputs": [],
   "source": [
    "for page_num in range(len(pdf_loader.pages)):\n",
    "    pdf_page = pdf_loader.pages[page_num]\n",
    "    pdf_text += pdf_page.extract_text()"
   ]
  },
  {
   "cell_type": "markdown",
   "metadata": {},
   "source": [
    "# Split the text using RecursiveCharacterTextSplitter"
   ]
  },
  {
   "cell_type": "code",
   "execution_count": 46,
   "metadata": {},
   "outputs": [],
   "source": [
    "text_splitter = RecursiveCharacterTextSplitter(\n",
    "    chunk_size=2048,\n",
    "    chunk_overlap=64\n",
    ")\n",
    "split_texts = text_splitter.split_text(pdf_text)"
   ]
  },
  {
   "cell_type": "markdown",
   "metadata": {},
   "source": [
    "# Join the split text into paragraphs or sentences"
   ]
  },
  {
   "cell_type": "code",
   "execution_count": 47,
   "metadata": {},
   "outputs": [],
   "source": [
    "paragraphs = []\n",
    "for text in split_texts:\n",
    "    paragraphs.extend(text.split('\\n')) "
   ]
  },
  {
   "cell_type": "markdown",
   "metadata": {},
   "source": [
    "# Initialize the SentenceTransformer model (Hugging Face)"
   ]
  },
  {
   "cell_type": "code",
   "execution_count": 48,
   "metadata": {},
   "outputs": [],
   "source": [
    "model_name = \"sentence-transformers/all-MiniLM-L6-v2\"\n",
    "embeddings = SentenceTransformer(model_name)"
   ]
  },
  {
   "cell_type": "markdown",
   "metadata": {},
   "source": [
    "# Query each paragraph and get responses"
   ]
  },
  {
   "cell_type": "code",
   "execution_count": 49,
   "metadata": {},
   "outputs": [],
   "source": [
    "responses = []\n",
    "for paragraph in paragraphs:\n",
    "    response = embeddings.encode([paragraph], convert_to_tensor=True)\n",
    "    responses.append((paragraph, response))"
   ]
  },
  {
   "cell_type": "markdown",
   "metadata": {},
   "source": [
    "# Now, you can choose the most relevant response for the given query"
   ]
  },
  {
   "cell_type": "code",
   "execution_count": 50,
   "metadata": {},
   "outputs": [],
   "source": [
    "query_embedding = embeddings.encode([question], convert_to_tensor=True)\n",
    "best_response = None\n",
    "best_similarity = -1.0"
   ]
  },
  {
   "cell_type": "code",
   "execution_count": 51,
   "metadata": {},
   "outputs": [],
   "source": [
    "# count = 0\n",
    "answers = []\n",
    "\n",
    "for paragraph, response in responses:\n",
    "    \n",
    "    similarity = util.pytorch_cos_sim(query_embedding, response).item()\n",
    "    \n",
    "    if similarity >= 0.6:\n",
    "        \n",
    "        # count += 1\n",
    "        \n",
    "        answers.append(paragraph)\n",
    "    \n",
    "    # if count > 5:\n",
    "        \n",
    "    #     break\n",
    "\n",
    "answer = \"\\n\".join(answers)"
   ]
  },
  {
   "cell_type": "code",
   "execution_count": 52,
   "metadata": {},
   "outputs": [
    {
     "name": "stdout",
     "output_type": "stream",
     "text": [
      "['engine does not start after severalattempts, check the fuel and igni-', 'If the engine still does not start, try holding']\n"
     ]
    }
   ],
   "source": [
    "print (answers)"
   ]
  },
  {
   "cell_type": "code",
   "execution_count": 53,
   "metadata": {},
   "outputs": [],
   "source": [
    "prompt_message = answer + \"\\n\" + question\n",
    "\n",
    "final_response = llm.generate(prompt=prompt_message)"
   ]
  },
  {
   "cell_type": "code",
   "execution_count": 45,
   "metadata": {},
   "outputs": [
    {
     "name": "stdout",
     "output_type": "stream",
     "text": [
      ". Check the fuel level and ignition switch. If the fuel level is low, add more fuel to the tank. If the ignition switch is not working, replace it. 2. If the engine still does not start, check the starter motor. If the starter motor is faulty, you may need to replace it. 3. If the engine still does not start, try starting the engine with a jump start or by hand. If this does not work, the engine may be damaged and require further repair.\n"
     ]
    }
   ],
   "source": [
    "print (final_response)"
   ]
  }
 ],
 "metadata": {
  "kernelspec": {
   "display_name": "pdf reader env",
   "language": "python",
   "name": "pdf_reader_env"
  },
  "language_info": {
   "codemirror_mode": {
    "name": "ipython",
    "version": 3
   },
   "file_extension": ".py",
   "mimetype": "text/x-python",
   "name": "python",
   "nbconvert_exporter": "python",
   "pygments_lexer": "ipython3",
   "version": "3.10.11"
  },
  "orig_nbformat": 4
 },
 "nbformat": 4,
 "nbformat_minor": 2
}
